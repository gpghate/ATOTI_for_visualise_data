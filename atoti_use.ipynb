{
 "cells": [
  {
   "cell_type": "code",
   "execution_count": 1,
   "id": "2f60f10c-38eb-468b-8caa-7e1d323a20c7",
   "metadata": {},
   "outputs": [],
   "source": [
    "import atoti as tt\n",
    "\n",
    "session = tt.create_session()"
   ]
  },
  {
   "cell_type": "code",
   "execution_count": 2,
   "id": "e5611f9b-9f80-4964-8f9c-05300bbc48c3",
   "metadata": {},
   "outputs": [
    {
     "name": "stderr",
     "output_type": "stream",
     "text": [
      "The store has been sampled because there are more than 10000 lines in the files to load and the appended lines. Call Session.load_all_data() to trigger the full load of the data.\n"
     ]
    }
   ],
   "source": [
    "sales_values = session.read_csv(\"FL_insurance_sample.csv\", keys=[\"policyID\"])"
   ]
  },
  {
   "cell_type": "code",
   "execution_count": 3,
   "id": "5432c082-cf0c-4cf9-a6fe-f76913b45aff",
   "metadata": {},
   "outputs": [
    {
     "name": "stderr",
     "output_type": "stream",
     "text": [
      "22 error(s) occurred while feeding the store Fl_insurance_sample. Check the store's loading_report for more details.\n"
     ]
    },
    {
     "data": {
      "text/html": [
       "<div>\n",
       "<style scoped>\n",
       "    .dataframe tbody tr th:only-of-type {\n",
       "        vertical-align: middle;\n",
       "    }\n",
       "\n",
       "    .dataframe tbody tr th {\n",
       "        vertical-align: top;\n",
       "    }\n",
       "\n",
       "    .dataframe thead th {\n",
       "        text-align: right;\n",
       "    }\n",
       "</style>\n",
       "<table border=\"1\" class=\"dataframe\">\n",
       "  <thead>\n",
       "    <tr style=\"text-align: right;\">\n",
       "      <th></th>\n",
       "      <th>statecode</th>\n",
       "      <th>county</th>\n",
       "      <th>eq_site_limit</th>\n",
       "      <th>hu_site_limit</th>\n",
       "      <th>fl_site_limit</th>\n",
       "      <th>fr_site_limit</th>\n",
       "      <th>tiv_2011</th>\n",
       "      <th>tiv_2012</th>\n",
       "      <th>eq_site_deductible</th>\n",
       "      <th>hu_site_deductible</th>\n",
       "      <th>fl_site_deductible</th>\n",
       "      <th>fr_site_deductible</th>\n",
       "      <th>point_latitude</th>\n",
       "      <th>point_longitude</th>\n",
       "      <th>line</th>\n",
       "      <th>construction</th>\n",
       "      <th>point_granularity</th>\n",
       "    </tr>\n",
       "    <tr>\n",
       "      <th>policyID</th>\n",
       "      <th></th>\n",
       "      <th></th>\n",
       "      <th></th>\n",
       "      <th></th>\n",
       "      <th></th>\n",
       "      <th></th>\n",
       "      <th></th>\n",
       "      <th></th>\n",
       "      <th></th>\n",
       "      <th></th>\n",
       "      <th></th>\n",
       "      <th></th>\n",
       "      <th></th>\n",
       "      <th></th>\n",
       "      <th></th>\n",
       "      <th></th>\n",
       "      <th></th>\n",
       "    </tr>\n",
       "  </thead>\n",
       "  <tbody>\n",
       "    <tr>\n",
       "      <th>119736</th>\n",
       "      <td>FL</td>\n",
       "      <td>CLAY COUNTY</td>\n",
       "      <td>498960.0</td>\n",
       "      <td>498960.00</td>\n",
       "      <td>498960.0</td>\n",
       "      <td>498960.0</td>\n",
       "      <td>498960.00</td>\n",
       "      <td>792148.90</td>\n",
       "      <td>0.0</td>\n",
       "      <td>9979.2</td>\n",
       "      <td>0</td>\n",
       "      <td>0</td>\n",
       "      <td>30.102261</td>\n",
       "      <td>-81.711777</td>\n",
       "      <td>Residential</td>\n",
       "      <td>Masonry</td>\n",
       "      <td>1</td>\n",
       "    </tr>\n",
       "    <tr>\n",
       "      <th>448094</th>\n",
       "      <td>FL</td>\n",
       "      <td>CLAY COUNTY</td>\n",
       "      <td>1322376.3</td>\n",
       "      <td>1322376.30</td>\n",
       "      <td>1322376.3</td>\n",
       "      <td>1322376.3</td>\n",
       "      <td>1322376.30</td>\n",
       "      <td>1438163.57</td>\n",
       "      <td>0.0</td>\n",
       "      <td>0.0</td>\n",
       "      <td>0</td>\n",
       "      <td>0</td>\n",
       "      <td>30.063936</td>\n",
       "      <td>-81.707664</td>\n",
       "      <td>Residential</td>\n",
       "      <td>Masonry</td>\n",
       "      <td>3</td>\n",
       "    </tr>\n",
       "    <tr>\n",
       "      <th>206893</th>\n",
       "      <td>FL</td>\n",
       "      <td>CLAY COUNTY</td>\n",
       "      <td>190724.4</td>\n",
       "      <td>190724.40</td>\n",
       "      <td>190724.4</td>\n",
       "      <td>190724.4</td>\n",
       "      <td>190724.40</td>\n",
       "      <td>192476.78</td>\n",
       "      <td>0.0</td>\n",
       "      <td>0.0</td>\n",
       "      <td>0</td>\n",
       "      <td>0</td>\n",
       "      <td>30.089579</td>\n",
       "      <td>-81.700455</td>\n",
       "      <td>Residential</td>\n",
       "      <td>Wood</td>\n",
       "      <td>1</td>\n",
       "    </tr>\n",
       "    <tr>\n",
       "      <th>333743</th>\n",
       "      <td>FL</td>\n",
       "      <td>CLAY COUNTY</td>\n",
       "      <td>0.0</td>\n",
       "      <td>79520.76</td>\n",
       "      <td>0.0</td>\n",
       "      <td>0.0</td>\n",
       "      <td>79520.76</td>\n",
       "      <td>86854.48</td>\n",
       "      <td>0.0</td>\n",
       "      <td>0.0</td>\n",
       "      <td>0</td>\n",
       "      <td>0</td>\n",
       "      <td>30.063236</td>\n",
       "      <td>-81.707703</td>\n",
       "      <td>Residential</td>\n",
       "      <td>Wood</td>\n",
       "      <td>3</td>\n",
       "    </tr>\n",
       "    <tr>\n",
       "      <th>172534</th>\n",
       "      <td>FL</td>\n",
       "      <td>CLAY COUNTY</td>\n",
       "      <td>0.0</td>\n",
       "      <td>254281.50</td>\n",
       "      <td>0.0</td>\n",
       "      <td>254281.5</td>\n",
       "      <td>254281.50</td>\n",
       "      <td>246144.49</td>\n",
       "      <td>0.0</td>\n",
       "      <td>0.0</td>\n",
       "      <td>0</td>\n",
       "      <td>0</td>\n",
       "      <td>30.060614</td>\n",
       "      <td>-81.702675</td>\n",
       "      <td>Residential</td>\n",
       "      <td>Wood</td>\n",
       "      <td>1</td>\n",
       "    </tr>\n",
       "  </tbody>\n",
       "</table>\n",
       "</div>"
      ],
      "text/plain": [
       "         statecode       county  eq_site_limit  hu_site_limit  fl_site_limit  \\\n",
       "policyID                                                                       \n",
       "119736          FL  CLAY COUNTY       498960.0      498960.00       498960.0   \n",
       "448094          FL  CLAY COUNTY      1322376.3     1322376.30      1322376.3   \n",
       "206893          FL  CLAY COUNTY       190724.4      190724.40       190724.4   \n",
       "333743          FL  CLAY COUNTY            0.0       79520.76            0.0   \n",
       "172534          FL  CLAY COUNTY            0.0      254281.50            0.0   \n",
       "\n",
       "          fr_site_limit    tiv_2011    tiv_2012  eq_site_deductible  \\\n",
       "policyID                                                              \n",
       "119736         498960.0   498960.00   792148.90                 0.0   \n",
       "448094        1322376.3  1322376.30  1438163.57                 0.0   \n",
       "206893         190724.4   190724.40   192476.78                 0.0   \n",
       "333743              0.0    79520.76    86854.48                 0.0   \n",
       "172534         254281.5   254281.50   246144.49                 0.0   \n",
       "\n",
       "          hu_site_deductible  fl_site_deductible  fr_site_deductible  \\\n",
       "policyID                                                               \n",
       "119736                9979.2                   0                   0   \n",
       "448094                   0.0                   0                   0   \n",
       "206893                   0.0                   0                   0   \n",
       "333743                   0.0                   0                   0   \n",
       "172534                   0.0                   0                   0   \n",
       "\n",
       "          point_latitude  point_longitude         line construction  \\\n",
       "policyID                                                              \n",
       "119736         30.102261       -81.711777  Residential      Masonry   \n",
       "448094         30.063936       -81.707664  Residential      Masonry   \n",
       "206893         30.089579       -81.700455  Residential         Wood   \n",
       "333743         30.063236       -81.707703  Residential         Wood   \n",
       "172534         30.060614       -81.702675  Residential         Wood   \n",
       "\n",
       "          point_granularity  \n",
       "policyID                     \n",
       "119736                    1  \n",
       "448094                    3  \n",
       "206893                    1  \n",
       "333743                    3  \n",
       "172534                    1  "
      ]
     },
     "execution_count": 3,
     "metadata": {},
     "output_type": "execute_result"
    }
   ],
   "source": [
    "sales_values.head()"
   ]
  },
  {
   "cell_type": "code",
   "execution_count": 4,
   "id": "5b374d95-e366-479d-9cfc-7ffffc20bf66",
   "metadata": {},
   "outputs": [
    {
     "name": "stderr",
     "output_type": "stream",
     "text": [
      "22 error(s) occurred while feeding the store Fl_insurance_sample. Check the store's loading_report for more details.\n"
     ]
    }
   ],
   "source": [
    "cube = session.create_cube(sales_values)"
   ]
  },
  {
   "cell_type": "code",
   "execution_count": 5,
   "id": "ba035276-5469-4711-9dc2-f90ec0e2e155",
   "metadata": {},
   "outputs": [
    {
     "data": {
      "application/vnd.atoti.widget.v0+json": {
       "name": null,
       "session": "Unnamed"
      },
      "text/html": [
       "<img src=\"data:image/svg+xml;charset=utf8,%3C%3Fxml%20version%3D%221.0%22%20standalone%3D%22no%22%3F%3E%3Csvg%20xmlns%3D%22http%3A%2F%2Fwww.w3.org%2F2000%2Fsvg%22%20height%3D%22348%22%20width%3D%221011%22%3E%3CforeignObject%20width%3D%22100%25%22%20height%3D%22100%25%22%20x%3D%220%22%20y%3D%220%22%3E%3Cstyle%20xmlns%3D%22http%3A%2F%2Fwww.w3.org%2F1999%2Fxhtml%22%20type%3D%22text%2Fcss%22%3E*%2C%20%3A%3Abefore%2C%20%3A%3Aafter%20%7Bbox-sizing%3A%20unset%7D%0A.ant-root%20%5Bclass%5E%3D%22ant-%22%5D%2C%20.ant-root%20%5Bclass*%3D%22ant-%22%5D%2C%20.ant-root%20%5Bclass%5E%3D%22ant-%22%5D%20*%2C%20.ant-root%20%5Bclass*%3D%22ant-%22%5D%20*%2C%20.ant-root%20%5Bclass%5E%3D%22ant-%22%5D%20%3A%3Abefore%2C%20.ant-root%20%5Bclass*%3D%22ant-%22%5D%20%3A%3Abefore%2C%20.ant-root%20%5Bclass%5E%3D%22ant-%22%5D%20%3A%3Aafter%2C%20.ant-root%20%5Bclass*%3D%22ant-%22%5D%20%3A%3Aafter%20%7Bbox-sizing%3A%20border-box%7D%0A.ant-root%20html%2C%20.ant-root%20%7Bwidth%3A%20100%25%3B%20height%3A%20100%25%7D%0A.ant-root%20*%2C%20.ant-root%20%3A%3Abefore%2C%20.ant-root%20%3A%3Aafter%20%7Bbox-sizing%3A%20border-box%7D%0A.ant-root%20%7Bmargin-top%3A%200px%3B%20margin-right%3A%200px%3B%20margin-bottom%3A%200px%3B%20margin-left%3A%200px%3B%20color%3A%20rgb(89%2C%2089%2C%2089)%3B%20font-size%3A%2012px%3B%20font-family%3A%20-apple-system%2C%20BlinkMacSystemFont%2C%20%22Segoe%20UI%22%2C%20Roboto%2C%20%22Helvetica%20Neue%22%2C%20Arial%2C%20%22Noto%20Sans%22%2C%20sans-serif%2C%20%22Apple%20Color%20Emoji%22%2C%20%22Segoe%20UI%20Emoji%22%2C%20%22Segoe%20UI%20Symbol%22%2C%20%22Noto%20Color%20Emoji%22%3B%20font-variant-ligatures%3A%20normal%3B%20font-variant-numeric%3A%20tabular-nums%3B%20font-variant-east-asian%3A%20normal%3B%20font-variant-caps%3A%20normal%3B%20line-height%3A%201.66667%3B%20background-color%3A%20rgb(255%2C%20255%2C%20255)%3B%20--antd-wave-shadow-color%3A%20undefined%3B%20--scroll-bar%3A%20undefined%7D%0A.css-12ebr42-AWidget%20%7Bheight%3A%20100%25%7D%0A.css-10y4rp7-PivotTableSkeleton%20%7Bdisplay%3A%20flex%3B%20overflow-x%3A%20hidden%3B%20overflow-y%3A%20hidden%7D%0A.css-e8kiak-PivotTableSkeleton%20%7Bheight%3A%2028px%3B%20overflow-x%3A%20hidden%3B%20overflow-y%3A%20hidden%3B%20position%3A%20relative%3B%20width%3A%20120px%3B%20border-right-width%3A%202px%3B%20border-right-style%3A%20solid%3B%20border-right-color%3A%20rgb(233%2C%20233%2C%20233)%7D%0A.css-vlvbho-PivotTableSkeleton%20%7Bpadding-top%3A%204px%3B%20padding-right%3A%204px%3B%20padding-bottom%3A%203px%3B%20padding-left%3A%204px%7D%0A.css-fqro98-PivotTableSkeleton%20%7Bheight%3A%20196px%3B%20position%3A%20relative%3B%20border-top-width%3A%202px%3B%20border-top-style%3A%20solid%3B%20border-top-color%3A%20rgb(233%2C%20233%2C%20233)%3B%20border-right-width%3A%202px%3B%20border-right-style%3A%20solid%3B%20border-right-color%3A%20rgb(233%2C%20233%2C%20233)%7D%0A.css-25b266-PivotTableSkeleton%20%7Bfont-size%3A%2012px%3B%20height%3A%2028px%3B%20left%3A%200px%3B%20padding-top%3A%204px%3B%20padding-right%3A%204px%3B%20padding-bottom%3A%203px%3B%20padding-left%3A%204px%3B%20position%3A%20absolute%3B%20top%3A%200px%3B%20width%3A%20120px%3B%20overflow-x%3A%20hidden%3B%20overflow-y%3A%20hidden%3B%20background-color%3A%20transparent%3B%20border-right-width%3A%202px%3B%20border-right-style%3A%20solid%3B%20border-right-color%3A%20rgb(233%2C%20233%2C%20233)%7D%0A.css-bq72nh-PivotTableSkeleton%20%7Bfont-size%3A%2012px%3B%20height%3A%2028px%3B%20left%3A%200px%3B%20padding-top%3A%204px%3B%20padding-right%3A%204px%3B%20padding-bottom%3A%203px%3B%20padding-left%3A%204px%3B%20position%3A%20absolute%3B%20top%3A%2028px%3B%20width%3A%20120px%3B%20overflow-x%3A%20hidden%3B%20overflow-y%3A%20hidden%3B%20background-color%3A%20rgb(250%2C%20250%2C%20250)%3B%20border-right-width%3A%202px%3B%20border-right-style%3A%20solid%3B%20border-right-color%3A%20rgb(233%2C%20233%2C%20233)%7D%0A.css-17b3iap-PivotTableSkeleton%20%7Bfont-size%3A%2012px%3B%20height%3A%2028px%3B%20left%3A%200px%3B%20padding-top%3A%204px%3B%20padding-right%3A%204px%3B%20padding-bottom%3A%203px%3B%20padding-left%3A%204px%3B%20position%3A%20absolute%3B%20top%3A%2056px%3B%20width%3A%20120px%3B%20overflow-x%3A%20hidden%3B%20overflow-y%3A%20hidden%3B%20background-color%3A%20transparent%3B%20border-right-width%3A%202px%3B%20border-right-style%3A%20solid%3B%20border-right-color%3A%20rgb(233%2C%20233%2C%20233)%7D%0A.css-1mewy1h-PivotTableSkeleton%20%7Bfont-size%3A%2012px%3B%20height%3A%2028px%3B%20left%3A%200px%3B%20padding-top%3A%204px%3B%20padding-right%3A%204px%3B%20padding-bottom%3A%203px%3B%20padding-left%3A%204px%3B%20position%3A%20absolute%3B%20top%3A%2084px%3B%20width%3A%20120px%3B%20overflow-x%3A%20hidden%3B%20overflow-y%3A%20hidden%3B%20background-color%3A%20rgb(250%2C%20250%2C%20250)%3B%20border-right-width%3A%202px%3B%20border-right-style%3A%20solid%3B%20border-right-color%3A%20rgb(233%2C%20233%2C%20233)%7D%0A.css-a38kal-PivotTableSkeleton%20%7Bfont-size%3A%2012px%3B%20height%3A%2028px%3B%20left%3A%200px%3B%20padding-top%3A%204px%3B%20padding-right%3A%204px%3B%20padding-bottom%3A%203px%3B%20padding-left%3A%204px%3B%20position%3A%20absolute%3B%20top%3A%20112px%3B%20width%3A%20120px%3B%20overflow-x%3A%20hidden%3B%20overflow-y%3A%20hidden%3B%20background-color%3A%20transparent%3B%20border-right-width%3A%202px%3B%20border-right-style%3A%20solid%3B%20border-right-color%3A%20rgb(233%2C%20233%2C%20233)%7D%0A.css-5njp2v-PivotTableSkeleton%20%7Bfont-size%3A%2012px%3B%20height%3A%2028px%3B%20left%3A%200px%3B%20padding-top%3A%204px%3B%20padding-right%3A%204px%3B%20padding-bottom%3A%203px%3B%20padding-left%3A%204px%3B%20position%3A%20absolute%3B%20top%3A%20140px%3B%20width%3A%20120px%3B%20overflow-x%3A%20hidden%3B%20overflow-y%3A%20hidden%3B%20background-color%3A%20rgb(250%2C%20250%2C%20250)%3B%20border-right-width%3A%202px%3B%20border-right-style%3A%20solid%3B%20border-right-color%3A%20rgb(233%2C%20233%2C%20233)%7D%0A.css-1f9jo3v-PivotTableSkeleton%20%7Bfont-size%3A%2012px%3B%20height%3A%2028px%3B%20left%3A%200px%3B%20padding-top%3A%204px%3B%20padding-right%3A%204px%3B%20padding-bottom%3A%203px%3B%20padding-left%3A%204px%3B%20position%3A%20absolute%3B%20top%3A%20168px%3B%20width%3A%20120px%3B%20overflow-x%3A%20hidden%3B%20overflow-y%3A%20hidden%3B%20background-color%3A%20transparent%3B%20border-right-width%3A%202px%3B%20border-right-style%3A%20solid%3B%20border-right-color%3A%20rgb(233%2C%20233%2C%20233)%7D%0A.css-1t96e2l-PivotTableSkeleton%20%7Bheight%3A%2028px%7D%0A.css-1edqi56-PivotTableSkeleton%20%7Bfont-size%3A%2012px%3B%20height%3A%2028px%3B%20left%3A%200px%3B%20padding-top%3A%204px%3B%20padding-right%3A%204px%3B%20padding-bottom%3A%203px%3B%20padding-left%3A%204px%3B%20position%3A%20absolute%3B%20top%3A%200px%3B%20width%3A%20120px%3B%20overflow-x%3A%20hidden%3B%20overflow-y%3A%20hidden%3B%20font-weight%3A%20600%7D%0A.css-1axe9lj-PivotTableSkeleton%20%7Bfont-size%3A%2012px%3B%20height%3A%2028px%3B%20left%3A%20120px%3B%20padding-top%3A%204px%3B%20padding-right%3A%204px%3B%20padding-bottom%3A%203px%3B%20padding-left%3A%204px%3B%20position%3A%20absolute%3B%20top%3A%200px%3B%20width%3A%20120px%3B%20overflow-x%3A%20hidden%3B%20overflow-y%3A%20hidden%3B%20font-weight%3A%20600%7D%0A.css-obxz1i-PivotTableSkeleton%20%7Bheight%3A%20196px%3B%20position%3A%20relative%3B%20width%3A%20360px%3B%20border-top-width%3A%202px%3B%20border-top-style%3A%20solid%3B%20border-top-color%3A%20rgb(233%2C%20233%2C%20233)%7D%0A.css-68h5mo-PivotTableSkeleton%20%7Bfont-size%3A%2012px%3B%20height%3A%2028px%3B%20left%3A%200px%3B%20padding-top%3A%204px%3B%20padding-right%3A%204px%3B%20padding-bottom%3A%203px%3B%20padding-left%3A%204px%3B%20position%3A%20absolute%3B%20top%3A%200px%3B%20width%3A%20120px%3B%20text-align%3A%20right%3B%20background-color%3A%20transparent%3B%20border-right-width%3A%201px%3B%20border-right-style%3A%20solid%3B%20border-right-color%3A%20rgb(233%2C%20233%2C%20233)%7D%0A.css-1eir3w9-PivotTableSkeleton%20%7Bfont-size%3A%2012px%3B%20height%3A%2028px%3B%20left%3A%20120px%3B%20padding-top%3A%204px%3B%20padding-right%3A%204px%3B%20padding-bottom%3A%203px%3B%20padding-left%3A%204px%3B%20position%3A%20absolute%3B%20top%3A%200px%3B%20width%3A%20120px%3B%20text-align%3A%20right%3B%20background-color%3A%20transparent%3B%20border-right-width%3A%201px%3B%20border-right-style%3A%20solid%3B%20border-right-color%3A%20rgb(233%2C%20233%2C%20233)%7D%0A.css-evd87c-PivotTableSkeleton%20%7Bfont-size%3A%2012px%3B%20height%3A%2028px%3B%20left%3A%20240px%3B%20padding-top%3A%204px%3B%20padding-right%3A%204px%3B%20padding-bottom%3A%203px%3B%20padding-left%3A%204px%3B%20position%3A%20absolute%3B%20top%3A%200px%3B%20width%3A%20120px%3B%20text-align%3A%20right%3B%20background-color%3A%20transparent%3B%20border-right-width%3A%201px%3B%20border-right-style%3A%20solid%3B%20border-right-color%3A%20rgb(233%2C%20233%2C%20233)%7D%0A.css-9w39z5-PivotTableSkeleton%20%7Bfont-size%3A%2012px%3B%20height%3A%2028px%3B%20left%3A%200px%3B%20padding-top%3A%204px%3B%20padding-right%3A%204px%3B%20padding-bottom%3A%203px%3B%20padding-left%3A%204px%3B%20position%3A%20absolute%3B%20top%3A%2028px%3B%20width%3A%20120px%3B%20text-align%3A%20right%3B%20background-color%3A%20rgb(250%2C%20250%2C%20250)%3B%20border-right-width%3A%201px%3B%20border-right-style%3A%20solid%3B%20border-right-color%3A%20rgb(233%2C%20233%2C%20233)%7D%0A.css-1ua4i3m-PivotTableSkeleton%20%7Bfont-size%3A%2012px%3B%20height%3A%2028px%3B%20left%3A%20120px%3B%20padding-top%3A%204px%3B%20padding-right%3A%204px%3B%20padding-bottom%3A%203px%3B%20padding-left%3A%204px%3B%20position%3A%20absolute%3B%20top%3A%2028px%3B%20width%3A%20120px%3B%20text-align%3A%20right%3B%20background-color%3A%20rgb(250%2C%20250%2C%20250)%3B%20border-right-width%3A%201px%3B%20border-right-style%3A%20solid%3B%20border-right-color%3A%20rgb(233%2C%20233%2C%20233)%7D%0A.css-jvcu5x-PivotTableSkeleton%20%7Bfont-size%3A%2012px%3B%20height%3A%2028px%3B%20left%3A%20240px%3B%20padding-top%3A%204px%3B%20padding-right%3A%204px%3B%20padding-bottom%3A%203px%3B%20padding-left%3A%204px%3B%20position%3A%20absolute%3B%20top%3A%2028px%3B%20width%3A%20120px%3B%20text-align%3A%20right%3B%20background-color%3A%20rgb(250%2C%20250%2C%20250)%3B%20border-right-width%3A%201px%3B%20border-right-style%3A%20solid%3B%20border-right-color%3A%20rgb(233%2C%20233%2C%20233)%7D%0A.css-11hnujr-PivotTableSkeleton%20%7Bfont-size%3A%2012px%3B%20height%3A%2028px%3B%20left%3A%200px%3B%20padding-top%3A%204px%3B%20padding-right%3A%204px%3B%20padding-bottom%3A%203px%3B%20padding-left%3A%204px%3B%20position%3A%20absolute%3B%20top%3A%2056px%3B%20width%3A%20120px%3B%20text-align%3A%20right%3B%20background-color%3A%20transparent%3B%20border-right-width%3A%201px%3B%20border-right-style%3A%20solid%3B%20border-right-color%3A%20rgb(233%2C%20233%2C%20233)%7D%0A.css-oja7tt-PivotTableSkeleton%20%7Bfont-size%3A%2012px%3B%20height%3A%2028px%3B%20left%3A%20120px%3B%20padding-top%3A%204px%3B%20padding-right%3A%204px%3B%20padding-bottom%3A%203px%3B%20padding-left%3A%204px%3B%20position%3A%20absolute%3B%20top%3A%2056px%3B%20width%3A%20120px%3B%20text-align%3A%20right%3B%20background-color%3A%20transparent%3B%20border-right-width%3A%201px%3B%20border-right-style%3A%20solid%3B%20border-right-color%3A%20rgb(233%2C%20233%2C%20233)%7D%0A.css-bthhnh-PivotTableSkeleton%20%7Bfont-size%3A%2012px%3B%20height%3A%2028px%3B%20left%3A%20240px%3B%20padding-top%3A%204px%3B%20padding-right%3A%204px%3B%20padding-bottom%3A%203px%3B%20padding-left%3A%204px%3B%20position%3A%20absolute%3B%20top%3A%2056px%3B%20width%3A%20120px%3B%20text-align%3A%20right%3B%20background-color%3A%20transparent%3B%20border-right-width%3A%201px%3B%20border-right-style%3A%20solid%3B%20border-right-color%3A%20rgb(233%2C%20233%2C%20233)%7D%0A.css-1bbon9-PivotTableSkeleton%20%7Bfont-size%3A%2012px%3B%20height%3A%2028px%3B%20left%3A%200px%3B%20padding-top%3A%204px%3B%20padding-right%3A%204px%3B%20padding-bottom%3A%203px%3B%20padding-left%3A%204px%3B%20position%3A%20absolute%3B%20top%3A%2084px%3B%20width%3A%20120px%3B%20text-align%3A%20right%3B%20background-color%3A%20rgb(250%2C%20250%2C%20250)%3B%20border-right-width%3A%201px%3B%20border-right-style%3A%20solid%3B%20border-right-color%3A%20rgb(233%2C%20233%2C%20233)%7D%0A.css-1j5gdhv-PivotTableSkeleton%20%7Bfont-size%3A%2012px%3B%20height%3A%2028px%3B%20left%3A%20120px%3B%20padding-top%3A%204px%3B%20padding-right%3A%204px%3B%20padding-bottom%3A%203px%3B%20padding-left%3A%204px%3B%20position%3A%20absolute%3B%20top%3A%2084px%3B%20width%3A%20120px%3B%20text-align%3A%20right%3B%20background-color%3A%20rgb(250%2C%20250%2C%20250)%3B%20border-right-width%3A%201px%3B%20border-right-style%3A%20solid%3B%20border-right-color%3A%20rgb(233%2C%20233%2C%20233)%7D%0A.css-1lv4q2i-PivotTableSkeleton%20%7Bfont-size%3A%2012px%3B%20height%3A%2028px%3B%20left%3A%20240px%3B%20padding-top%3A%204px%3B%20padding-right%3A%204px%3B%20padding-bottom%3A%203px%3B%20padding-left%3A%204px%3B%20position%3A%20absolute%3B%20top%3A%2084px%3B%20width%3A%20120px%3B%20text-align%3A%20right%3B%20background-color%3A%20rgb(250%2C%20250%2C%20250)%3B%20border-right-width%3A%201px%3B%20border-right-style%3A%20solid%3B%20border-right-color%3A%20rgb(233%2C%20233%2C%20233)%7D%0A.css-1tsabhv-PivotTableSkeleton%20%7Bfont-size%3A%2012px%3B%20height%3A%2028px%3B%20left%3A%200px%3B%20padding-top%3A%204px%3B%20padding-right%3A%204px%3B%20padding-bottom%3A%203px%3B%20padding-left%3A%204px%3B%20position%3A%20absolute%3B%20top%3A%20112px%3B%20width%3A%20120px%3B%20text-align%3A%20right%3B%20background-color%3A%20transparent%3B%20border-right-width%3A%201px%3B%20border-right-style%3A%20solid%3B%20border-right-color%3A%20rgb(233%2C%20233%2C%20233)%7D%0A.css-1p8o7py-PivotTableSkeleton%20%7Bfont-size%3A%2012px%3B%20height%3A%2028px%3B%20left%3A%20120px%3B%20padding-top%3A%204px%3B%20padding-right%3A%204px%3B%20padding-bottom%3A%203px%3B%20padding-left%3A%204px%3B%20position%3A%20absolute%3B%20top%3A%20112px%3B%20width%3A%20120px%3B%20text-align%3A%20right%3B%20background-color%3A%20transparent%3B%20border-right-width%3A%201px%3B%20border-right-style%3A%20solid%3B%20border-right-color%3A%20rgb(233%2C%20233%2C%20233)%7D%0A.css-sfb04f-PivotTableSkeleton%20%7Bfont-size%3A%2012px%3B%20height%3A%2028px%3B%20left%3A%20240px%3B%20padding-top%3A%204px%3B%20padding-right%3A%204px%3B%20padding-bottom%3A%203px%3B%20padding-left%3A%204px%3B%20position%3A%20absolute%3B%20top%3A%20112px%3B%20width%3A%20120px%3B%20text-align%3A%20right%3B%20background-color%3A%20transparent%3B%20border-right-width%3A%201px%3B%20border-right-style%3A%20solid%3B%20border-right-color%3A%20rgb(233%2C%20233%2C%20233)%7D%0A.css-18yepbk-PivotTableSkeleton%20%7Bfont-size%3A%2012px%3B%20height%3A%2028px%3B%20left%3A%200px%3B%20padding-top%3A%204px%3B%20padding-right%3A%204px%3B%20padding-bottom%3A%203px%3B%20padding-left%3A%204px%3B%20position%3A%20absolute%3B%20top%3A%20140px%3B%20width%3A%20120px%3B%20text-align%3A%20right%3B%20background-color%3A%20rgb(250%2C%20250%2C%20250)%3B%20border-right-width%3A%201px%3B%20border-right-style%3A%20solid%3B%20border-right-color%3A%20rgb(233%2C%20233%2C%20233)%7D%0A.css-pu45lk-PivotTableSkeleton%20%7Bfont-size%3A%2012px%3B%20height%3A%2028px%3B%20left%3A%20120px%3B%20padding-top%3A%204px%3B%20padding-right%3A%204px%3B%20padding-bottom%3A%203px%3B%20padding-left%3A%204px%3B%20position%3A%20absolute%3B%20top%3A%20140px%3B%20width%3A%20120px%3B%20text-align%3A%20right%3B%20background-color%3A%20rgb(250%2C%20250%2C%20250)%3B%20border-right-width%3A%201px%3B%20border-right-style%3A%20solid%3B%20border-right-color%3A%20rgb(233%2C%20233%2C%20233)%7D%0A.css-1r6d2yt-PivotTableSkeleton%20%7Bfont-size%3A%2012px%3B%20height%3A%2028px%3B%20left%3A%20240px%3B%20padding-top%3A%204px%3B%20padding-right%3A%204px%3B%20padding-bottom%3A%203px%3B%20padding-left%3A%204px%3B%20position%3A%20absolute%3B%20top%3A%20140px%3B%20width%3A%20120px%3B%20text-align%3A%20right%3B%20background-color%3A%20rgb(250%2C%20250%2C%20250)%3B%20border-right-width%3A%201px%3B%20border-right-style%3A%20solid%3B%20border-right-color%3A%20rgb(233%2C%20233%2C%20233)%7D%0A.css-15gi9zl-PivotTableSkeleton%20%7Bfont-size%3A%2012px%3B%20height%3A%2028px%3B%20left%3A%200px%3B%20padding-top%3A%204px%3B%20padding-right%3A%204px%3B%20padding-bottom%3A%203px%3B%20padding-left%3A%204px%3B%20position%3A%20absolute%3B%20top%3A%20168px%3B%20width%3A%20120px%3B%20text-align%3A%20right%3B%20background-color%3A%20transparent%3B%20border-right-width%3A%201px%3B%20border-right-style%3A%20solid%3B%20border-right-color%3A%20rgb(233%2C%20233%2C%20233)%7D%0A.css-1njc4gi-PivotTableSkeleton%20%7Bfont-size%3A%2012px%3B%20height%3A%2028px%3B%20left%3A%20120px%3B%20padding-top%3A%204px%3B%20padding-right%3A%204px%3B%20padding-bottom%3A%203px%3B%20padding-left%3A%204px%3B%20position%3A%20absolute%3B%20top%3A%20168px%3B%20width%3A%20120px%3B%20text-align%3A%20right%3B%20background-color%3A%20transparent%3B%20border-right-width%3A%201px%3B%20border-right-style%3A%20solid%3B%20border-right-color%3A%20rgb(233%2C%20233%2C%20233)%7D%0A.css-sdq49k-PivotTableSkeleton%20%7Bfont-size%3A%2012px%3B%20height%3A%2028px%3B%20left%3A%20240px%3B%20padding-top%3A%204px%3B%20padding-right%3A%204px%3B%20padding-bottom%3A%203px%3B%20padding-left%3A%204px%3B%20position%3A%20absolute%3B%20top%3A%20168px%3B%20width%3A%20120px%3B%20text-align%3A%20right%3B%20background-color%3A%20transparent%3B%20border-right-width%3A%201px%3B%20border-right-style%3A%20solid%3B%20border-right-color%3A%20rgb(233%2C%20233%2C%20233)%7D%0A*%20%7B-ms-overflow-style%3A%20none%3B%20scrollbar-width%3A%20none%7D%0A*%3A%3A-webkit-scrollbar%20%7Bdisplay%3A%20none%7D%3C%2Fstyle%3E%3Cdiv%20xmlns%3D%22http%3A%2F%2Fwww.w3.org%2F1999%2Fxhtml%22%20style%3D%22height%3A%20348px%3B%20width%3A%201011px%3B%22%3E%3Cdiv%20class%3D%22ant-root%20css-0%22%3E%3Cdiv%20class%3D%22ant-dropdown-trigger%20css-12ebr42-AWidget%22%3E%3Cdiv%20class%3D%22css-10oheb9-PivotTableSkeleton%22%3E%3Cdiv%20class%3D%22css-10y4rp7-PivotTableSkeleton%22%3E%3Cdiv%3E%3Cdiv%20class%3D%22css-e8kiak-PivotTableSkeleton%22%3E%3Cdiv%20class%3D%22css-vlvbho-PivotTableSkeleton%22%3E%3C%2Fdiv%3E%3C%2Fdiv%3E%3Cdiv%20class%3D%22css-fqro98-PivotTableSkeleton%22%3E%3Cdiv%20class%3D%22css-25b266-PivotTableSkeleton%22%3E%3C%2Fdiv%3E%3Cdiv%20class%3D%22css-bq72nh-PivotTableSkeleton%22%3E%3C%2Fdiv%3E%3Cdiv%20class%3D%22css-17b3iap-PivotTableSkeleton%22%3E%3C%2Fdiv%3E%3Cdiv%20class%3D%22css-1mewy1h-PivotTableSkeleton%22%3E%3C%2Fdiv%3E%3Cdiv%20class%3D%22css-a38kal-PivotTableSkeleton%22%3E%3C%2Fdiv%3E%3Cdiv%20class%3D%22css-5njp2v-PivotTableSkeleton%22%3E%3C%2Fdiv%3E%3Cdiv%20class%3D%22css-1f9jo3v-PivotTableSkeleton%22%3E%3C%2Fdiv%3E%3C%2Fdiv%3E%3C%2Fdiv%3E%3Cdiv%3E%3Cdiv%20class%3D%22css-1t96e2l-PivotTableSkeleton%22%3E%3Cdiv%20class%3D%22css-1edqi56-PivotTableSkeleton%22%3E%3C%2Fdiv%3E%3Cdiv%20class%3D%22css-1axe9lj-PivotTableSkeleton%22%3E%3C%2Fdiv%3E%3C%2Fdiv%3E%3Cdiv%20class%3D%22css-obxz1i-PivotTableSkeleton%22%3E%3Cdiv%20class%3D%22css-68h5mo-PivotTableSkeleton%22%3E%3C%2Fdiv%3E%3Cdiv%20class%3D%22css-1eir3w9-PivotTableSkeleton%22%3E%3C%2Fdiv%3E%3Cdiv%20class%3D%22css-evd87c-PivotTableSkeleton%22%3E%3C%2Fdiv%3E%3Cdiv%20class%3D%22css-9w39z5-PivotTableSkeleton%22%3E%3C%2Fdiv%3E%3Cdiv%20class%3D%22css-1ua4i3m-PivotTableSkeleton%22%3E%3C%2Fdiv%3E%3Cdiv%20class%3D%22css-jvcu5x-PivotTableSkeleton%22%3E%3C%2Fdiv%3E%3Cdiv%20class%3D%22css-11hnujr-PivotTableSkeleton%22%3E%3C%2Fdiv%3E%3Cdiv%20class%3D%22css-oja7tt-PivotTableSkeleton%22%3E%3C%2Fdiv%3E%3Cdiv%20class%3D%22css-bthhnh-PivotTableSkeleton%22%3E%3C%2Fdiv%3E%3Cdiv%20class%3D%22css-1bbon9-PivotTableSkeleton%22%3E%3C%2Fdiv%3E%3Cdiv%20class%3D%22css-1j5gdhv-PivotTableSkeleton%22%3E%3C%2Fdiv%3E%3Cdiv%20class%3D%22css-1lv4q2i-PivotTableSkeleton%22%3E%3C%2Fdiv%3E%3Cdiv%20class%3D%22css-1tsabhv-PivotTableSkeleton%22%3E%3C%2Fdiv%3E%3Cdiv%20class%3D%22css-1p8o7py-PivotTableSkeleton%22%3E%3C%2Fdiv%3E%3Cdiv%20class%3D%22css-sfb04f-PivotTableSkeleton%22%3E%3C%2Fdiv%3E%3Cdiv%20class%3D%22css-18yepbk-PivotTableSkeleton%22%3E%3C%2Fdiv%3E%3Cdiv%20class%3D%22css-pu45lk-PivotTableSkeleton%22%3E%3C%2Fdiv%3E%3Cdiv%20class%3D%22css-1r6d2yt-PivotTableSkeleton%22%3E%3C%2Fdiv%3E%3Cdiv%20class%3D%22css-15gi9zl-PivotTableSkeleton%22%3E%3C%2Fdiv%3E%3Cdiv%20class%3D%22css-1njc4gi-PivotTableSkeleton%22%3E%3C%2Fdiv%3E%3Cdiv%20class%3D%22css-sdq49k-PivotTableSkeleton%22%3E%3C%2Fdiv%3E%3C%2Fdiv%3E%3C%2Fdiv%3E%3C%2Fdiv%3E%3C%2Fdiv%3E%3C%2Fdiv%3E%3C%2Fdiv%3E%3C%2Fdiv%3E%3C%2FforeignObject%3E%3C%2Fsvg%3E\">"
      ],
      "text/plain": [
       "Open the notebook in JupyterLab with the atoti extension installed and enabled to start editing this widget."
      ]
     },
     "metadata": {},
     "output_type": "display_data"
    }
   ],
   "source": [
    "session.visualize()"
   ]
  },
  {
   "cell_type": "code",
   "execution_count": 7,
   "id": "35d93cce-2154-4582-94d7-fac4f2331621",
   "metadata": {},
   "outputs": [
    {
     "data": {
      "text/plain": [
       "'http://localhost:59085'"
      ]
     },
     "execution_count": 7,
     "metadata": {},
     "output_type": "execute_result"
    }
   ],
   "source": [
    "session.url"
   ]
  },
  {
   "cell_type": "code",
   "execution_count": null,
   "id": "7909f306-9d39-4731-8f03-7cb181da4da1",
   "metadata": {},
   "outputs": [],
   "source": []
  },
  {
   "cell_type": "code",
   "execution_count": null,
   "id": "cb3b4cf1-ad19-42e3-8cef-bd7a83f4abb5",
   "metadata": {},
   "outputs": [],
   "source": []
  }
 ],
 "metadata": {
  "kernelspec": {
   "display_name": "Python 3",
   "language": "python",
   "name": "python3"
  },
  "language_info": {
   "codemirror_mode": {
    "name": "ipython",
    "version": 3
   },
   "file_extension": ".py",
   "mimetype": "text/x-python",
   "name": "python",
   "nbconvert_exporter": "python",
   "pygments_lexer": "ipython3",
   "version": "3.7.9"
  }
 },
 "nbformat": 4,
 "nbformat_minor": 5
}
